{
 "cells": [
  {
   "cell_type": "code",
   "execution_count": 5,
   "id": "2ef57818",
   "metadata": {},
   "outputs": [
    {
     "name": "stdout",
     "output_type": "stream",
     "text": [
      "CSV copied with the first 20 rows: birds_20.csv\n"
     ]
    }
   ],
   "source": [
    "#make a copy of a file with x number of rows\n",
    "\n",
    "import csv\n",
    "\n",
    "def copy_csv_with_first_20_rows(input_file, output_file):\n",
    "    with open(input_file, 'r') as file:\n",
    "        reader = csv.reader(file)\n",
    "        data = list(reader)[:20]\n",
    "\n",
    "    with open(output_file, 'w', newline='') as file:\n",
    "        writer = csv.writer(file)\n",
    "        writer.writerows(data)\n",
    "\n",
    "    print(f\"CSV copied with the first 20 rows: {output_file}\")\n",
    "\n",
    "# Specify the input and output file paths\n",
    "input_file = 'birds.csv'\n",
    "output_file = 'birds_20.csv'\n",
    "\n",
    "# Call the function to copy the CSV\n",
    "copy_csv_with_first_20_rows(input_file, output_file)\n"
   ]
  },
  {
   "cell_type": "code",
   "execution_count": 6,
   "id": "ed9af14d",
   "metadata": {},
   "outputs": [
    {
     "name": "stdout",
     "output_type": "stream",
     "text": [
      "Images downloaded and CSV updated. Output file: updated_data.csv\n"
     ]
    }
   ],
   "source": [
    "#download images from source\n",
    "\n",
    "import os\n",
    "import csv\n",
    "import requests\n",
    "\n",
    "def download_images(csv_file):\n",
    "    # Create the output folder if it doesn't exist\n",
    "    output_folder = 'bird_images'\n",
    "    os.makedirs(output_folder, exist_ok=True)\n",
    "\n",
    "    # Read the CSV file with tab delimiter\n",
    "    with open(csv_file, 'r') as file:\n",
    "        reader = csv.DictReader(file, delimiter='\\t')\n",
    "        data = list(reader)\n",
    "\n",
    "        # Add a new column header for the filepath\n",
    "        header = data[0].keys()\n",
    "        header = list(header) + ['filepath']\n",
    "\n",
    "        # Process each row in the CSV\n",
    "        for row in data:\n",
    "            image_url = row['url']\n",
    "            image_path = row['path']\n",
    "\n",
    "            # Download the image\n",
    "            response = requests.get(image_url)\n",
    "            if response.status_code == 200:\n",
    "                # Generate the file path based on the original path value\n",
    "                folder_name, file_name = os.path.split(image_path)\n",
    "                file_path = os.path.join(output_folder, folder_name, file_name)\n",
    "\n",
    "                # Create the necessary subdirectories\n",
    "                os.makedirs(os.path.dirname(file_path), exist_ok=True)\n",
    "\n",
    "                # Save the image to the output folder\n",
    "                with open(file_path, 'wb') as image_file:\n",
    "                    image_file.write(response.content)\n",
    "\n",
    "                # Update the row with the file path\n",
    "                row['filepath'] = file_path\n",
    "            else:\n",
    "                print(f\"Failed to download image from {image_url}\")\n",
    "\n",
    "    # Write the updated data to a new CSV file\n",
    "    output_file = 'updated_data.csv'\n",
    "    with open(output_file, 'w', newline='') as file:\n",
    "        writer = csv.DictWriter(file, fieldnames=header, delimiter=',')\n",
    "        writer.writeheader()\n",
    "        writer.writerows(data)\n",
    "\n",
    "    print(f\"Images downloaded and CSV updated. Output file: {output_file}\")\n",
    "\n",
    "# Specify the CSV file path\n",
    "csv_file = 'birds_20.csv'\n",
    "\n",
    "# Call the function to download images and update the CSV\n",
    "download_images(csv_file)\n"
   ]
  },
  {
   "cell_type": "code",
   "execution_count": null,
   "id": "c7cf0f7e",
   "metadata": {},
   "outputs": [],
   "source": []
  }
 ],
 "metadata": {
  "kernelspec": {
   "display_name": "Python 3 (ipykernel)",
   "language": "python",
   "name": "python3"
  },
  "language_info": {
   "codemirror_mode": {
    "name": "ipython",
    "version": 3
   },
   "file_extension": ".py",
   "mimetype": "text/x-python",
   "name": "python",
   "nbconvert_exporter": "python",
   "pygments_lexer": "ipython3",
   "version": "3.11.3"
  }
 },
 "nbformat": 4,
 "nbformat_minor": 5
}
