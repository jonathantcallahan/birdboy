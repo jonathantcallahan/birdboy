{
 "cells": [
  {
   "cell_type": "code",
   "execution_count": 8,
   "id": "3ea6f063",
   "metadata": {
    "scrolled": true
   },
   "outputs": [
    {
     "name": "stdout",
     "output_type": "stream",
     "text": [
      "Distribution complete.\n"
     ]
    }
   ],
   "source": [
    "import os\n",
    "import random\n",
    "import shutil\n",
    "\n",
    "# Define the source directories\n",
    "image_dir = 'images'\n",
    "annotation_dir = 'annotations_hash_output_large'\n",
    "\n",
    "# Define the destination directories\n",
    "train_dir = 'train'\n",
    "valid_dir = 'valid'\n",
    "test_dir = 'test'\n",
    "\n",
    "# Set the percentage split\n",
    "train_percent = 70\n",
    "valid_percent = 15\n",
    "test_percent = 15\n",
    "\n",
    "# Create the destination directories if they don't exist\n",
    "os.makedirs(os.path.join(train_dir, 'images'), exist_ok=True)\n",
    "os.makedirs(os.path.join(train_dir, 'annotations'), exist_ok=True)\n",
    "os.makedirs(os.path.join(valid_dir, 'images'), exist_ok=True)\n",
    "os.makedirs(os.path.join(valid_dir, 'annotations'), exist_ok=True)\n",
    "os.makedirs(os.path.join(test_dir, 'images'), exist_ok=True)\n",
    "os.makedirs(os.path.join(test_dir, 'annotations'), exist_ok=True)\n",
    "\n",
    "# Get the list of image files\n",
    "image_files = os.listdir(image_dir)\n",
    "\n",
    "# Shuffle the image files\n",
    "random.shuffle(image_files)\n",
    "\n",
    "# Calculate the number of files for each split\n",
    "num_images = len(image_files)\n",
    "num_train = int(num_images * (train_percent / 100))\n",
    "num_valid = int(num_images * (valid_percent / 100))\n",
    "num_test = num_images - num_train - num_valid\n",
    "\n",
    "# Split the image files\n",
    "train_files = image_files[:num_train]\n",
    "valid_files = image_files[num_train:num_train + num_valid]\n",
    "test_files = image_files[num_train + num_valid:]\n",
    "\n",
    "# Function to move files to destination directories\n",
    "def move_files(files, src_dir, dest_dir):\n",
    "    for file in files:\n",
    "        base_name = os.path.splitext(file)[0]\n",
    "        image_src = os.path.join(image_dir, file)\n",
    "        image_dest = os.path.join(dest_dir, 'images', file)\n",
    "        annotation_src = os.path.join(annotation_dir, base_name + '.txt')\n",
    "        annotation_dest = os.path.join(dest_dir, 'annotations', base_name + '.txt')\n",
    "        \n",
    "        # Check if source files exist before moving\n",
    "        if os.path.isfile(image_src) and os.path.isfile(annotation_src):\n",
    "            shutil.copy(image_src, image_dest)\n",
    "            shutil.copy(annotation_src, annotation_dest)\n",
    "\n",
    "# Move files to destination directories\n",
    "move_files(train_files, image_dir, train_dir)\n",
    "move_files(valid_files, image_dir, valid_dir)\n",
    "move_files(test_files, image_dir, test_dir)\n",
    "\n",
    "print(\"Distribution complete.\")\n"
   ]
  },
  {
   "cell_type": "code",
   "execution_count": 10,
   "id": "534f6cd1",
   "metadata": {},
   "outputs": [
    {
     "name": "stdout",
     "output_type": "stream",
     "text": [
      "Number of birds: 500\n",
      "Bird list: [\"Cooper's Hawk\", 'Northern Goshawk', 'Sharp-shinned Hawk', 'Golden Eagle', 'White-tailed Hawk', 'Zone-tailed Hawk', 'Red-tailed Hawk', 'Rough-legged Hawk', 'Red-shouldered Hawk', 'Broad-winged Hawk', 'Ferruginous Hawk', \"Swainson's Hawk\", 'Common Black-Hawk', 'Northern Harrier', 'Swallow-tailed Kite', 'White-tailed Kite', 'Bald Eagle', 'Mississippi Kite', \"Harris's Hawk\", 'Snail Kite', 'Bushtit', 'Horned Lark', 'Belted Kingfisher', 'Pigeon Guillemot', 'Black Guillemot', 'Common Murre', 'Northern Pintail', 'American Wigeon', 'Green-winged Teal', 'Cinnamon Teal', 'Blue-winged Teal', 'Mottled Duck', 'Eurasian Wigeon', 'Mallard', 'American Black Duck', 'Gadwall', 'Lesser Scaup', 'Redhead', 'Ring-necked Duck', 'Greater Scaup', 'Canvasback', 'Bufflehead', 'Common Goldeneye', \"Barrow's Goldeneye\", 'Muscovy Duck', 'Long-tailed Duck', 'Harlequin Duck', 'Hooded Merganser', 'Black Scoter', 'White-winged Scoter', 'Surf Scoter', 'Common Merganser', 'Red-breasted Merganser', 'Ruddy Duck', 'Common Eider', 'Greater White-fronted Goose', 'Brant', 'Canada Goose', 'Cackling Goose', 'Snow Goose', \"Ross's Goose\", 'Trumpeter Swan', 'Tundra Swan', 'Mute Swan', 'Fulvous Whistling-Duck', 'Anhinga', 'White-throated Swift', 'Chimney Swift', 'Limpkin', 'Great Egret', 'Great Blue Heron', 'American Bittern', 'Cattle Egret', 'Little Blue Heron', 'Reddish Egret', 'Snowy Egret', 'Tricolored Heron', 'Least Bittern', 'Yellow-crowned Night-Heron', 'Black-crowned Night-Heron', 'Cedar Waxwing', 'Bohemian Waxwing', 'Lapland Longspur', 'Chestnut-collared Longspur', 'Snow Bunting', 'Lesser Nighthawk', 'Common Nighthawk', 'Northern Cardinal', 'Pyrrhuloxia', 'Lazuli Bunting', 'Blue Grosbeak', 'Painted Bunting', 'Indigo Bunting', 'Rose-breasted Grosbeak', 'Black-headed Grosbeak', 'Hepatic Tanager', 'Western Tanager', 'Scarlet Tanager', 'Summer Tanager', 'Dickcissel', 'Turkey Vulture', 'Black Vulture', 'Brown Creeper', 'Piping Plover', 'Mountain Plover', 'Snowy Plover', 'Semipalmated Plover', 'Killdeer', \"Wilson's Plover\", 'American Golden-Plover', 'Pacific Golden-Plover', 'Black-bellied Plover', 'Wood Stork', 'American Dipper', 'Rock Pigeon', 'Inca Dove', 'Common Ground-Dove', 'Band-tailed Pigeon', 'Eurasian Collared-Dove', 'White-winged Dove', 'Mourning Dove', 'Western Scrub-Jay', 'Florida Scrub-Jay', 'Mexican Jay', 'American Crow', 'Common Raven', 'Chihuahuan Raven', 'Fish Crow', 'Blue Jay', \"Steller's Jay\", 'Green Jay', \"Clark's Nutcracker\", 'Gray Jay', 'Black-billed Magpie', 'Yellow-billed Magpie', 'Groove-billed Ani', 'Yellow-billed Cuckoo', 'Black-billed Cuckoo', 'Greater Roadrunner', 'Rufous-crowned Sparrow', 'Saltmarsh Sparrow', \"Henslow's Sparrow\", \"Le Conte's Sparrow\", 'Seaside Sparrow', \"Nelson's Sparrow\", 'Grasshopper Sparrow', 'Black-throated Sparrow', 'Olive Sparrow', 'Lark Bunting', 'Lark Sparrow', 'Dark-eyed Junco', 'Yellow-eyed Junco', 'Swamp Sparrow', \"Lincoln's Sparrow\", 'Song Sparrow', 'California Towhee', 'Canyon Towhee', 'Fox Sparrow', \"Cassin's Sparrow\", 'Green-tailed Towhee', 'Eastern Towhee', 'Spotted Towhee', 'Vesper Sparrow', 'American Tree Sparrow', 'Black-chinned Sparrow', \"Brewer's Sparrow\", 'Clay-colored Sparrow', 'Chipping Sparrow', 'Field Sparrow', 'White-throated Sparrow', 'Golden-crowned Sparrow', 'White-crowned Sparrow', \"Harris's Sparrow\", 'Crested Caracara', 'Merlin', 'Prairie Falcon', 'Peregrine Falcon', 'American Kestrel', 'Magnificent Frigatebird', 'Common Redpoll', 'Hoary Redpoll', 'Evening Grosbeak', \"Cassin's Finch\", 'House Finch', 'Purple Finch', 'Black Rosy-Finch', 'Brown-capped Rosy-Finch', 'Gray-crowned Rosy-Finch', 'Red Crossbill', 'White-winged Crossbill', 'Pine Grosbeak', 'Pine Siskin', 'Lesser Goldfinch', 'American Goldfinch', 'Common Loon', 'Pacific Loon', 'Red-throated Loon', 'Sandhill Crane', 'Black Oystercatcher', 'American Oystercatcher', 'Barn Swallow', 'Cave Swallow', 'Cliff Swallow', 'Purple Martin', 'Northern Rough-winged Swallow', 'Tree Swallow', 'Violet-green Swallow', 'Red-winged Blackbird', 'Bobolink', 'Rusty Blackbird', \"Brewer's Blackbird\", \"Bullock's Oriole\", 'Hooded Oriole', 'Baltimore Oriole', \"Audubon's Oriole\", 'Altamira Oriole', \"Scott's Oriole\", 'Orchard Oriole', 'Bronzed Cowbird', 'Brown-headed Cowbird', 'Boat-tailed Grackle', 'Great-tailed Grackle', 'Common Grackle', 'Eastern Meadowlark', 'Western Meadowlark', 'Yellow-headed Blackbird', 'Northern Shrike', 'Loggerhead Shrike', \"Bonaparte's Gull\", 'Herring Gull', 'California Gull', 'Mew Gull', 'Ring-billed Gull', 'Glaucous-winged Gull', 'Iceland Gull', \"Heermann's Gull\", 'Glaucous Gull', 'Great Black-backed Gull', 'Western Gull', \"Thayer's Gull\", 'Laughing Gull', \"Franklin's Gull\", 'Black-legged Kittiwake', 'Black Skimmer', 'Black Tern', 'Gull-billed Tern', 'Caspian Tern', 'Roseate Tern', \"Forster's Tern\", 'Common Tern', 'Arctic Tern', 'Least Tern', 'Royal Tern', 'Sandwich Tern', 'Gray Catbird', 'Northern Mockingbird', 'Sage Thrasher', 'Curve-billed Thrasher', 'Long-billed Thrasher', 'California Thrasher', 'Brown Thrasher', 'American Pipit', 'California Quail', \"Gambel's Quail\", 'Scaled Quail', 'Northern Bobwhite', 'Osprey', 'Black-crested Titmouse', 'Tufted Titmouse', 'Oak Titmouse', 'Bridled Titmouse', 'Black-capped Chickadee', 'Carolina Chickadee', 'Mountain Chickadee', 'Boreal Chickadee', 'Chestnut-backed Chickadee', 'Canada Warbler', \"Wilson's Warbler\", 'Mourning Warbler', 'Common Yellowthroat', 'Worm-eating Warbler', 'Yellow-breasted Chat', 'Black-and-white Warbler', 'Painted Redstart', 'Connecticut Warbler', 'Orange-crowned Warbler', 'Tennessee Warbler', 'Nashville Warbler', 'Louisiana Waterthrush', 'Northern Waterthrush', 'Prothonotary Warbler', 'Ovenbird', 'Northern Parula', 'Black-throated Blue Warbler', 'Bay-breasted Warbler', 'Cerulean Warbler', 'Hooded Warbler', 'Yellow-rumped Warbler', 'Prairie Warbler', 'Yellow-throated Warbler', 'Blackburnian Warbler', 'Magnolia Warbler', 'Black-throated Gray Warbler', 'Palm Warbler', 'Chestnut-sided Warbler', 'Yellow Warbler', 'Pine Warbler', 'American Redstart', 'Blackpoll Warbler', 'Cape May Warbler', \"Townsend's Warbler\", 'Black-throated Green Warbler', 'Golden-winged Warbler', 'Blue-winged Warbler', 'House Sparrow', 'American White Pelican', 'Brown Pelican', 'Double-crested Cormorant', 'Neotropic Cormorant', 'Great Cormorant', \"Brandt's Cormorant\", 'Wild Turkey', 'Ring-necked Pheasant', 'Ruffed Grouse', 'Greater Sage-Grouse', 'Sooty Grouse', 'Dusky Grouse', 'Spruce Grouse', 'Willow Ptarmigan', 'White-tailed Ptarmigan', 'Rock Ptarmigan', 'Greater Prairie-Chicken', 'Sharp-tailed Grouse', 'Northern Flicker', 'Pileated Woodpecker', 'Golden-fronted Woodpecker', 'Red-bellied Woodpecker', 'Red-headed Woodpecker', 'Acorn Woodpecker', \"Lewis's Woodpecker\", 'Gila Woodpecker', 'White-headed Woodpecker', 'Black-backed Woodpecker', 'Red-cockaded Woodpecker', 'American Three-toed Woodpecker', \"Nuttall's Woodpecker\", 'Downy Woodpecker', 'Ladder-backed Woodpecker', 'Hairy Woodpecker', 'Red-naped Sapsucker', 'Red-breasted Sapsucker', \"Williamson's Sapsucker\", 'Yellow-bellied Sapsucker', \"Clark's Grebe\", 'Western Grebe', 'Horned Grebe', 'Red-necked Grebe', 'Eared Grebe', 'Pied-billed Grebe', 'Least Grebe', 'Blue-gray Gnatcatcher', 'Monk Parakeet', 'Phainopepla', 'American Coot', 'Common Gallinule', 'Purple Gallinule', 'Sora', 'King Rail', 'Virginia Rail', 'Clapper Rail', 'Black-necked Stilt', 'American Avocet', 'Ruby-crowned Kinglet', 'Golden-crowned Kinglet', 'Verdin', 'Red Phalarope', 'Red-necked Phalarope', \"Wilson's Phalarope\", 'Spotted Sandpiper', 'Surfbird', 'Ruddy Turnstone', 'Black Turnstone', 'Upland Sandpiper', 'Sanderling', 'Dunlin', \"Baird's Sandpiper\", 'Red Knot', 'White-rumped Sandpiper', 'Stilt Sandpiper', 'Purple Sandpiper', 'Western Sandpiper', 'Pectoral Sandpiper', 'Least Sandpiper', 'Rock Sandpiper', 'Semipalmated Sandpiper', \"Wilson's Snipe\", 'Short-billed Dowitcher', 'Long-billed Dowitcher', 'Marbled Godwit', 'Long-billed Curlew', 'Whimbrel', 'American Woodcock', 'Lesser Yellowlegs', 'Wandering Tattler', 'Greater Yellowlegs', 'Willet', 'Solitary Sandpiper', 'Red-breasted Nuthatch', 'White-breasted Nuthatch', 'Brown-headed Nuthatch', 'Pygmy Nuthatch', 'Northern Saw-whet Owl', 'Short-eared Owl', 'Long-eared Owl', 'Burrowing Owl', 'Snowy Owl', 'Great Horned Owl', 'Ferruginous Pygmy-Owl', 'Eastern Screech-Owl', 'Western Screech-Owl', 'Elf Owl', 'Great Gray Owl', 'Spotted Owl', 'Barred Owl', 'Northern Hawk Owl', 'European Starling', 'Northern Gannet', 'Wrentit', 'White Ibis', 'White-faced Ibis', 'Glossy Ibis', 'Black-chinned Hummingbird', 'Ruby-throated Hummingbird', \"Anna's Hummingbird\", \"Costa's Hummingbird\", 'Broad-billed Hummingbird', 'Calliope Hummingbird', 'Broad-tailed Hummingbird', 'Rufous Hummingbird', \"Allen's Hummingbird\", 'Cactus Wren', 'Canyon Wren', 'Marsh Wren', 'Sedge Wren', 'Rock Wren', \"Bewick's Wren\", 'Carolina Wren', 'House Wren', 'Winter Wren', 'Pacific Wren', 'Elegant Trogon', 'Veery', 'Hermit Thrush', 'Gray-cheeked Thrush', \"Swainson's Thrush\", 'Wood Thrush', 'Varied Thrush', \"Townsend's Solitaire\", 'Mountain Bluebird', 'Western Bluebird', 'Eastern Bluebird', 'American Robin', 'Olive-sided Flycatcher', 'Western Wood-Pewee', 'Eastern Wood-Pewee', 'Alder Flycatcher', 'Pacific-slope Flycatcher', 'Yellow-bellied Flycatcher', \"Hammond's Flycatcher\", 'Least Flycatcher', 'Dusky Flycatcher', 'Cordilleran Flycatcher', 'Willow Flycatcher', 'Acadian Flycatcher', 'Gray Flycatcher', 'Vermilion Flycatcher', 'Black Phoebe', 'Eastern Phoebe', \"Say's Phoebe\", 'Ash-throated Flycatcher', 'Great Crested Flycatcher', 'Brown-crested Flycatcher', 'Great Kiskadee', \"Couch's Kingbird\", 'Gray Kingbird', 'Scissor-tailed Flycatcher', 'Tropical Kingbird', 'Eastern Kingbird', 'Western Kingbird', \"Cassin's Kingbird\", \"Bell's Vireo\", \"Cassin's Vireo\", 'Yellow-throated Vireo', 'Warbling Vireo', 'White-eyed Vireo', \"Hutton's Vireo\", 'Red-eyed Vireo', 'Philadelphia Vireo', 'Plumbeous Vireo', 'Blue-headed Vireo']\n"
     ]
    }
   ],
   "source": [
    "def read_birds_from_file(file_path):\n",
    "    with open(file_path, 'r') as file:\n",
    "        birds = file.readlines()\n",
    "\n",
    "    # remove any newlines or whitespace at the end of each bird name\n",
    "    birds = [bird.strip() for bird in birds]\n",
    "    return birds\n",
    "\n",
    "file_path = \"labels.txt\"  # replace with your actual file path\n",
    "bird_list = read_birds_from_file(file_path)\n",
    "print(\"Number of birds:\", len(bird_list))\n",
    "print(\"Bird list:\", bird_list)"
   ]
  },
  {
   "cell_type": "code",
   "execution_count": 11,
   "id": "b9b2b038",
   "metadata": {},
   "outputs": [],
   "source": [
    "#1, 156, 225, 283, 386"
   ]
  },
  {
   "cell_type": "code",
   "execution_count": 15,
   "id": "b57cb2a2",
   "metadata": {},
   "outputs": [],
   "source": [
    "import os\n",
    "\n",
    "# Specify the folder path containing the annotation files\n",
    "folder_path = 'valid/labels'\n",
    "\n",
    "# Get the list of files in the folder\n",
    "file_list = os.listdir(folder_path)\n",
    "\n",
    "# Iterate over each file in the folder\n",
    "for file_name in file_list:\n",
    "    # Construct the full file path\n",
    "    file_path = os.path.join(folder_path, file_name)\n",
    "\n",
    "    # Open the file for reading and reading the single line\n",
    "    with open(file_path, 'r') as file:\n",
    "        line = file.readline().strip()\n",
    "\n",
    "    # Split the line by whitespace\n",
    "    data = line.split()\n",
    "\n",
    "    # Get the original ID value\n",
    "    original_id = int(data[0])\n",
    "\n",
    "    # Subtract 1 from the original ID to convert it to a zero-based index\n",
    "    updated_id = original_id - 1\n",
    "\n",
    "    # Update the line with the new ID value\n",
    "    data[0] = str(updated_id)\n",
    "\n",
    "    # Join the updated data back into a line\n",
    "    updated_line = ' '.join(data)\n",
    "\n",
    "    # Open the file for writing and write the updated line\n",
    "    with open(file_path, 'w') as file:\n",
    "        file.write(updated_line)\n"
   ]
  },
  {
   "cell_type": "code",
   "execution_count": null,
   "id": "a9babffb",
   "metadata": {},
   "outputs": [],
   "source": []
  }
 ],
 "metadata": {
  "kernelspec": {
   "display_name": "Python 3 (ipykernel)",
   "language": "python",
   "name": "python3"
  },
  "language_info": {
   "codemirror_mode": {
    "name": "ipython",
    "version": 3
   },
   "file_extension": ".py",
   "mimetype": "text/x-python",
   "name": "python",
   "nbconvert_exporter": "python",
   "pygments_lexer": "ipython3",
   "version": "3.11.3"
  }
 },
 "nbformat": 4,
 "nbformat_minor": 5
}
