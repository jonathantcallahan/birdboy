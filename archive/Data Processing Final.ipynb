{
 "cells": [
  {
   "cell_type": "code",
   "execution_count": 17,
   "id": "44a4654e",
   "metadata": {},
   "outputs": [],
   "source": [
    "target_folder = 'annotations_hash_output_large'"
   ]
  },
  {
   "cell_type": "code",
   "execution_count": 18,
   "id": "711082de",
   "metadata": {},
   "outputs": [
    {
     "name": "stdout",
     "output_type": "stream",
     "text": [
      "Processing completed!\n",
      "Processing completed!\n"
     ]
    }
   ],
   "source": [
    "# translate coordinates to YOLO format\n",
    "\n",
    "import os\n",
    "\n",
    "annotation_folder = target_folder\n",
    "\n",
    "# Iterate through each txt file in the annotations folder\n",
    "for filename in os.listdir(annotation_folder):\n",
    "    if filename.endswith('.txt'):\n",
    "        annotation_path = os.path.join(annotation_folder, filename)\n",
    "        \n",
    "        # Read the contents of the annotation file\n",
    "        with open(annotation_path, 'r') as file:\n",
    "            contents = file.read().strip().split(' ')\n",
    "\n",
    "        # Extract the bounding box coordinates\n",
    "        bb_x1, bb_y1, bb_x2, bb_y2 = map(int, contents[1:5])\n",
    "\n",
    "        # Compute the center coordinates, width, and height\n",
    "        center_x = (bb_x1 + bb_x2) // 2\n",
    "        center_y = (bb_y1 + bb_y2) // 2\n",
    "        width = bb_x2 - bb_x1\n",
    "        height = bb_y2 - bb_y1\n",
    "\n",
    "        # Update the contents of the annotation file\n",
    "        contents.extend([str(center_x), str(center_y), str(width), str(height)])\n",
    "        updated_contents = ' '.join(contents)\n",
    "\n",
    "        # Write the updated contents back to the annotation file\n",
    "        with open(annotation_path, 'w') as file:\n",
    "            file.write(updated_contents)\n",
    "\n",
    "print(\"Processing completed!\")\n",
    "\n",
    "#remove old format fields\n",
    "# Iterate through each txt file in the annotations folder\n",
    "for filename in os.listdir(annotation_folder):\n",
    "    if filename.endswith('.txt'):\n",
    "        annotation_path = os.path.join(annotation_folder, filename)\n",
    "        \n",
    "        # Read the contents of the annotation file\n",
    "        with open(annotation_path, 'r') as file:\n",
    "            contents = file.read().strip().split(' ')\n",
    "\n",
    "        # Remove the previous \"bb_x1, bb_y1, bb_x2, bb_y2\" fields\n",
    "        updated_contents = [contents[0]] + contents[5:]\n",
    "\n",
    "        # Write the updated contents back to the annotation file\n",
    "        with open(annotation_path, 'w') as file:\n",
    "            file.write(' '.join(updated_contents))\n",
    "\n",
    "print(\"Processing completed!\")\n",
    "\n"
   ]
  },
  {
   "cell_type": "code",
   "execution_count": 19,
   "id": "a759d621",
   "metadata": {
    "scrolled": true
   },
   "outputs": [
    {
     "name": "stdout",
     "output_type": "stream",
     "text": [
      "Processing completed!\n"
     ]
    }
   ],
   "source": [
    "from PIL import Image\n",
    "\n",
    "image_folder = 'images'\n",
    "\n",
    "# Iterate through each txt file in the annotations folder\n",
    "for filename in os.listdir(annotation_folder):\n",
    "    if filename.endswith('.txt'):\n",
    "        annotation_path = os.path.join(annotation_folder, filename)\n",
    "        image_path = os.path.join(image_folder, filename[:-4] + '.jpg')\n",
    "\n",
    "        # Read the dimensions of the associated image\n",
    "        with Image.open(image_path) as img:\n",
    "            image_width, image_height = img.size\n",
    "\n",
    "        # Read the contents of the annotation file\n",
    "        with open(annotation_path, 'r') as file:\n",
    "            contents = file.read().strip().split(' ')\n",
    "\n",
    "        # Convert the last four fields to percentage values\n",
    "        center_x, center_y, width, height = map(int, contents[-4:])\n",
    "        center_x_percent = (center_x / image_width) * 100\n",
    "        center_y_percent = (center_y / image_height) * 100\n",
    "        width_percent = (width / image_width) * 100\n",
    "        height_percent = (height / image_height) * 100\n",
    "\n",
    "        # Update the contents of the annotation file\n",
    "        contents[-4:] = [str(center_x_percent), str(center_y_percent), str(width_percent), str(height_percent)]\n",
    "        updated_contents = ' '.join(contents)\n",
    "\n",
    "        # Write the updated contents back to the annotation file\n",
    "        with open(annotation_path, 'w') as file:\n",
    "            file.write(updated_contents)\n",
    "\n",
    "print(\"Processing completed!\")\n"
   ]
  },
  {
   "cell_type": "code",
   "execution_count": 1,
   "id": "5b36be98",
   "metadata": {},
   "outputs": [
    {
     "ename": "NameError",
     "evalue": "name 'os' is not defined",
     "output_type": "error",
     "traceback": [
      "\u001b[1;31m---------------------------------------------------------------------------\u001b[0m",
      "\u001b[1;31mNameError\u001b[0m                                 Traceback (most recent call last)",
      "Cell \u001b[1;32mIn[1], line 2\u001b[0m\n\u001b[0;32m      1\u001b[0m \u001b[38;5;66;03m# Iterate through each txt file in the annotations folder\u001b[39;00m\n\u001b[1;32m----> 2\u001b[0m \u001b[38;5;28;01mfor\u001b[39;00m filename \u001b[38;5;129;01min\u001b[39;00m \u001b[43mos\u001b[49m\u001b[38;5;241m.\u001b[39mlistdir(annotation_folder):\n\u001b[0;32m      3\u001b[0m     \u001b[38;5;28;01mif\u001b[39;00m filename\u001b[38;5;241m.\u001b[39mendswith(\u001b[38;5;124m'\u001b[39m\u001b[38;5;124m.txt\u001b[39m\u001b[38;5;124m'\u001b[39m):\n\u001b[0;32m      4\u001b[0m         annotation_path \u001b[38;5;241m=\u001b[39m os\u001b[38;5;241m.\u001b[39mpath\u001b[38;5;241m.\u001b[39mjoin(annotation_folder, filename)\n",
      "\u001b[1;31mNameError\u001b[0m: name 'os' is not defined"
     ]
    }
   ],
   "source": [
    "# Iterate through each txt file in the annotations folder\n",
    "annotations_folder = 'nabirds_labels_2_test'\n",
    "\n",
    "for filename in os.listdir(annotation_folder):\n",
    "    if filename.endswith('.txt'):\n",
    "        annotation_path = os.path.join(annotation_folder, filename)\n",
    "\n",
    "        # Read the contents of the annotation file\n",
    "        with open(annotation_path, 'r') as file:\n",
    "            contents = file.read().strip().split(' ')\n",
    "\n",
    "        # Convert the last four fields to ratio format\n",
    "        center_x_percent, center_y_percent, width_percent, height_percent = map(float, contents[-4:])\n",
    "        center_x_ratio = center_x_percent / 100\n",
    "        center_y_ratio = center_y_percent / 100\n",
    "        width_ratio = width_percent / 100\n",
    "        height_ratio = height_percent / 100\n",
    "\n",
    "        # Update the contents of the annotation file\n",
    "        contents[-4:] = [str(center_x_ratio), str(center_y_ratio), str(width_ratio), str(height_ratio)]\n",
    "        updated_contents = ' '.join(contents)\n",
    "\n",
    "        # Write the updated contents back to the annotation file\n",
    "        with open(annotation_path, 'w') as file:\n",
    "            file.write(updated_contents)\n",
    "\n",
    "print(\"Processing completed!\")\n",
    "\n",
    "# Iterate through each txt file in the annotations folder\n",
    "for filename in os.listdir(annotation_folder):\n",
    "    if filename.endswith('.txt'):\n",
    "        annotation_path = os.path.join(annotation_folder, filename)\n",
    "\n",
    "        # Read the contents of the annotation file\n",
    "        with open(annotation_path, 'r') as file:\n",
    "            contents = file.read().strip().split(' ')\n",
    "\n",
    "        # Convert the last four fields to ratio format\n",
    "        center_x_percent, center_y_percent, width_percent, height_percent = map(float, contents[-4:])\n",
    "        center_x_ratio = center_x_percent / 100\n",
    "        center_y_ratio = center_y_percent / 100\n",
    "        width_ratio = width_percent / 100\n",
    "        height_ratio = height_percent / 100\n",
    "\n",
    "        # Update the contents of the annotation file\n",
    "        contents[-4:] = [str(center_x_ratio), str(center_y_ratio), str(width_ratio), str(height_ratio)]\n",
    "        updated_contents = ' '.join(contents)\n",
    "\n",
    "        # Write the updated contents back to the annotation file\n",
    "        with open(annotation_path, 'w') as file:\n",
    "            file.write(updated_contents)\n",
    "\n",
    "print(\"Processing completed!\")"
   ]
  },
  {
   "cell_type": "code",
   "execution_count": null,
   "id": "937cd239",
   "metadata": {},
   "outputs": [],
   "source": []
  },
  {
   "cell_type": "code",
   "execution_count": null,
   "id": "77b90a7e",
   "metadata": {},
   "outputs": [],
   "source": []
  }
 ],
 "metadata": {
  "kernelspec": {
   "display_name": "Python 3 (ipykernel)",
   "language": "python",
   "name": "python3"
  },
  "language_info": {
   "codemirror_mode": {
    "name": "ipython",
    "version": 3
   },
   "file_extension": ".py",
   "mimetype": "text/x-python",
   "name": "python",
   "nbconvert_exporter": "python",
   "pygments_lexer": "ipython3",
   "version": "3.11.3"
  }
 },
 "nbformat": 4,
 "nbformat_minor": 5
}
