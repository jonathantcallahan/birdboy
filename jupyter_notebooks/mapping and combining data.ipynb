{
 "cells": [
  {
   "cell_type": "code",
   "execution_count": 2,
   "id": "3fc05b9f",
   "metadata": {},
   "outputs": [
    {
     "name": "stdout",
     "output_type": "stream",
     "text": [
      "File has been updated to tab-delimited format.\n"
     ]
    }
   ],
   "source": [
    "input_file = \"labels_new.txt\"\n",
    "output_file = \"labels_new.txt\"\n",
    "\n",
    "# Read the content of the input file\n",
    "with open(input_file, 'r') as file:\n",
    "    content = file.read()\n",
    "\n",
    "# Replace commas with tabs\n",
    "content = content.replace(',', '\\t')\n",
    "\n",
    "# Write the updated content to the output file\n",
    "with open(output_file, 'w') as file:\n",
    "    file.write(content)\n",
    "\n",
    "print(\"File has been updated to tab-delimited format.\")"
   ]
  },
  {
   "cell_type": "code",
   "execution_count": 5,
   "id": "a07391c2",
   "metadata": {},
   "outputs": [
    {
     "name": "stdout",
     "output_type": "stream",
     "text": [
      "File has been updated to tab-delimited format.\n"
     ]
    }
   ],
   "source": [
    "input_file = \"labels_new_nabirds.txt\"\n",
    "output_file = \"labels_new_nabirds.txt\"\n",
    "\n",
    "# Read the content of the input file\n",
    "with open(input_file, 'r') as file:\n",
    "    lines = file.readlines()\n",
    "\n",
    "# Replace spaces with tabs\n",
    "lines = [line.strip().split(' ', 1) for line in lines]\n",
    "lines = ['\\t'.join(line) + '\\n' for line in lines]\n",
    "\n",
    "# Write the updated content to the output file\n",
    "with open(output_file, 'w') as file:\n",
    "    file.writelines(lines)\n",
    "\n",
    "print(\"File has been updated to tab-delimited format.\")"
   ]
  },
  {
   "cell_type": "code",
   "execution_count": 6,
   "id": "19f2c249",
   "metadata": {},
   "outputs": [
    {
     "name": "stdout",
     "output_type": "stream",
     "text": [
      "Processing completed!\n"
     ]
    }
   ],
   "source": [
    "import csv\n",
    "\n",
    "input_file = 'class_join_output.csv'\n",
    "output_file = 'mapping_dictionary.csv'\n",
    "\n",
    "with open(input_file, 'r') as file:\n",
    "    reader = csv.reader(file)\n",
    "    lines = list(reader)\n",
    "\n",
    "header = lines[0]\n",
    "data = lines[1:]\n",
    "\n",
    "# Add row numbers as a new column\n",
    "modified_data = [[str(index)] + row for index, row in enumerate(data)]\n",
    "\n",
    "# Write the modified data to the output file\n",
    "with open(output_file, 'w', newline='') as file:\n",
    "    writer = csv.writer(file)\n",
    "    writer.writerow(header)\n",
    "    writer.writerows(modified_data)\n",
    "\n",
    "print(\"Processing completed!\")\n"
   ]
  },
  {
   "cell_type": "code",
   "execution_count": 4,
   "id": "705f7aba",
   "metadata": {},
   "outputs": [
    {
     "name": "stdout",
     "output_type": "stream",
     "text": [
      "Conversion completed!\n"
     ]
    }
   ],
   "source": [
    "import csv\n",
    "\n",
    "txt_file = '../classes_nabirds.txt'\n",
    "csv_file = '../classes_nabirds.csv'\n",
    "\n",
    "with open(txt_file, 'r') as file:\n",
    "    lines = file.readlines()\n",
    "\n",
    "# Prepare the data for CSV conversion\n",
    "data = [line.strip().split('\\t') for line in lines]\n",
    "\n",
    "# Write the data to a CSV file\n",
    "with open(csv_file, 'w', newline='') as file:\n",
    "    writer = csv.writer(file)\n",
    "    writer.writerows(data)\n",
    "\n",
    "print(\"Conversion completed!\")\n"
   ]
  },
  {
   "cell_type": "code",
   "execution_count": 11,
   "id": "1a4ebbd2",
   "metadata": {},
   "outputs": [],
   "source": [
    "import pandas as pd\n",
    "\n",
    "# Read the two CSV files into pandas DataFrames\n",
    "df1 = pd.read_csv('../classes_nabirds.csv')\n",
    "df2 = pd.read_csv('../classes_birdsnap.csv')\n",
    "\n",
    "# Convert the ID column to integers\n",
    "df1['ID'] = pd.to_numeric(df1['id'], errors='coerce')\n",
    "df2['ID'] = pd.to_numeric(df2['id'], errors='coerce')\n",
    "\n",
    "# Fill NaN values in ID column with 'NA'\n",
    "df1['ID'].fillna('NA', inplace=True)\n",
    "df2['ID'].fillna('NA', inplace=True)\n",
    "\n",
    "# Perform a full outer join\n",
    "result = pd.merge(df1, df2, on='class', how='outer')\n",
    "\n",
    "# Save the result to a new CSV file\n",
    "result.to_csv('../mapping_dictionary_updated.csv', index=False)\n",
    "\n"
   ]
  },
  {
   "cell_type": "code",
   "execution_count": null,
   "id": "5f108f4d",
   "metadata": {},
   "outputs": [],
   "source": []
  }
 ],
 "metadata": {
  "kernelspec": {
   "display_name": "Python 3 (ipykernel)",
   "language": "python",
   "name": "python3"
  },
  "language_info": {
   "codemirror_mode": {
    "name": "ipython",
    "version": 3
   },
   "file_extension": ".py",
   "mimetype": "text/x-python",
   "name": "python",
   "nbconvert_exporter": "python",
   "pygments_lexer": "ipython3",
   "version": "3.11.3"
  }
 },
 "nbformat": 4,
 "nbformat_minor": 5
}
