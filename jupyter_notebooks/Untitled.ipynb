{
 "cells": [
  {
   "cell_type": "code",
   "execution_count": 2,
   "id": "3fc05b9f",
   "metadata": {},
   "outputs": [
    {
     "name": "stdout",
     "output_type": "stream",
     "text": [
      "File has been updated to tab-delimited format.\n"
     ]
    }
   ],
   "source": [
    "input_file = \"labels_new.txt\"\n",
    "output_file = \"labels_new.txt\"\n",
    "\n",
    "# Read the content of the input file\n",
    "with open(input_file, 'r') as file:\n",
    "    content = file.read()\n",
    "\n",
    "# Replace commas with tabs\n",
    "content = content.replace(',', '\\t')\n",
    "\n",
    "# Write the updated content to the output file\n",
    "with open(output_file, 'w') as file:\n",
    "    file.write(content)\n",
    "\n",
    "print(\"File has been updated to tab-delimited format.\")"
   ]
  },
  {
   "cell_type": "code",
   "execution_count": 5,
   "id": "a07391c2",
   "metadata": {},
   "outputs": [
    {
     "name": "stdout",
     "output_type": "stream",
     "text": [
      "File has been updated to tab-delimited format.\n"
     ]
    }
   ],
   "source": [
    "input_file = \"labels_new_nabirds.txt\"\n",
    "output_file = \"labels_new_nabirds.txt\"\n",
    "\n",
    "# Read the content of the input file\n",
    "with open(input_file, 'r') as file:\n",
    "    lines = file.readlines()\n",
    "\n",
    "# Replace spaces with tabs\n",
    "lines = [line.strip().split(' ', 1) for line in lines]\n",
    "lines = ['\\t'.join(line) + '\\n' for line in lines]\n",
    "\n",
    "# Write the updated content to the output file\n",
    "with open(output_file, 'w') as file:\n",
    "    file.writelines(lines)\n",
    "\n",
    "print(\"File has been updated to tab-delimited format.\")"
   ]
  },
  {
   "cell_type": "code",
   "execution_count": 6,
   "id": "19f2c249",
   "metadata": {},
   "outputs": [
    {
     "name": "stdout",
     "output_type": "stream",
     "text": [
      "Processing completed!\n"
     ]
    }
   ],
   "source": [
    "import csv\n",
    "\n",
    "input_file = 'class_join_output.csv'\n",
    "output_file = 'mapping_dictionary.csv'\n",
    "\n",
    "with open(input_file, 'r') as file:\n",
    "    reader = csv.reader(file)\n",
    "    lines = list(reader)\n",
    "\n",
    "header = lines[0]\n",
    "data = lines[1:]\n",
    "\n",
    "# Add row numbers as a new column\n",
    "modified_data = [[str(index)] + row for index, row in enumerate(data)]\n",
    "\n",
    "# Write the modified data to the output file\n",
    "with open(output_file, 'w', newline='') as file:\n",
    "    writer = csv.writer(file)\n",
    "    writer.writerow(header)\n",
    "    writer.writerows(modified_data)\n",
    "\n",
    "print(\"Processing completed!\")\n"
   ]
  },
  {
   "cell_type": "code",
   "execution_count": null,
   "id": "705f7aba",
   "metadata": {},
   "outputs": [],
   "source": []
  }
 ],
 "metadata": {
  "kernelspec": {
   "display_name": "Python 3 (ipykernel)",
   "language": "python",
   "name": "python3"
  },
  "language_info": {
   "codemirror_mode": {
    "name": "ipython",
    "version": 3
   },
   "file_extension": ".py",
   "mimetype": "text/x-python",
   "name": "python",
   "nbconvert_exporter": "python",
   "pygments_lexer": "ipython3",
   "version": "3.11.3"
  }
 },
 "nbformat": 4,
 "nbformat_minor": 5
}
