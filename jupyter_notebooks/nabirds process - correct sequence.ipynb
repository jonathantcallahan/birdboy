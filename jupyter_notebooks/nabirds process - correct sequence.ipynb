{
 "cells": [
  {
   "cell_type": "code",
   "execution_count": 6,
   "id": "54ae257c",
   "metadata": {},
   "outputs": [
    {
     "name": "stdout",
     "output_type": "stream",
     "text": [
      "Processing completed!\n"
     ]
    }
   ],
   "source": [
    "#add id field\n",
    "'''\n",
    "import os\n",
    "\n",
    "# Define the paths to the folders and files\n",
    "folder1_path = 'nabirds_labels_2'\n",
    "folder2_file_path = 'archive/nabirds/nabirds/image_class_labels.txt'\n",
    "\n",
    "# Read the contents of the second file into a dictionary\n",
    "id_mapping = {}\n",
    "with open(folder2_file_path, 'r') as file:\n",
    "    for line in file:\n",
    "        id_, class_ = line.strip().split()\n",
    "        id_mapping[id_] = class_\n",
    "\n",
    "# Iterate through the files in the first folder\n",
    "for filename in os.listdir(folder1_path):\n",
    "    file_path = os.path.join(folder1_path, filename)\n",
    "\n",
    "    # Read the contents of the file\n",
    "    with open(file_path, 'r') as file:\n",
    "        lines = file.readlines()\n",
    "\n",
    "    # Modify the lines and add the ID column\n",
    "    modified_lines = []\n",
    "    for line in lines:\n",
    "        id_, *values = line.strip().split()\n",
    "        class_ = id_mapping.get(id_, 'N/A')\n",
    "        modified_line = f\"{id_} {class_} {' '.join(values)}\"\n",
    "        modified_lines.append(modified_line)\n",
    "\n",
    "    # Write the modified lines back to the file\n",
    "    with open(file_path, 'w') as file:\n",
    "        file.write('\\n'.join(modified_lines))\n",
    "\n",
    "print(\"Processing completed!\")\n",
    "'''"
   ]
  },
  {
   "cell_type": "code",
   "execution_count": 7,
   "id": "7652f552",
   "metadata": {},
   "outputs": [
    {
     "name": "stdout",
     "output_type": "stream",
     "text": [
      "Processing completed!\n"
     ]
    }
   ],
   "source": [
    "#remove hash field\n",
    "'''\n",
    "import os\n",
    "\n",
    "# Define the path to the folder\n",
    "folder_path = 'nabirds_labels_2'\n",
    "\n",
    "# Iterate through the files in the folder\n",
    "for filename in os.listdir(folder_path):\n",
    "    file_path = os.path.join(folder_path, filename)\n",
    "\n",
    "    # Read the contents of the file\n",
    "    with open(file_path, 'r') as file:\n",
    "        lines = file.readlines()\n",
    "\n",
    "    # Remove the ID column from each line\n",
    "    modified_lines = [line.split(' ', 1)[1] for line in lines]\n",
    "\n",
    "    # Write the modified lines back to the file\n",
    "    with open(file_path, 'w') as file:\n",
    "        file.write(''.join(modified_lines))\n",
    "\n",
    "print(\"Processing completed!\")\n",
    "'''"
   ]
  },
  {
   "cell_type": "code",
   "execution_count": 6,
   "id": "0c8b93d1",
   "metadata": {},
   "outputs": [
    {
     "name": "stdout",
     "output_type": "stream",
     "text": [
      "Coordinates updated successfully!\n"
     ]
    }
   ],
   "source": [
    "#transform to YOLO format\n",
    "\n",
    "import os\n",
    "\n",
    "folder_path = \"nabirds_labels\"  \n",
    "\n",
    "for filename in os.listdir(folder_path):\n",
    "    if filename.endswith(\".txt\"):\n",
    "        file_path = os.path.join(folder_path, filename)\n",
    "        with open(file_path, \"r\") as file:\n",
    "            lines = file.readlines()\n",
    "\n",
    "        updated_lines = []\n",
    "        for line in lines:\n",
    "            parts = line.strip().split(\" \")\n",
    "            x, y, w, h = map(int, parts[1:])\n",
    "            center_x = x + w // 2\n",
    "            center_y = y + h // 2\n",
    "            updated_line = f\"{parts[0]} {center_x} {center_y} {w} {h}\\n\"\n",
    "            updated_lines.append(updated_line)\n",
    "\n",
    "        with open(file_path, \"w\") as file:\n",
    "            file.writelines(updated_lines)\n",
    "\n",
    "print(\"Coordinates updated successfully!\")"
   ]
  },
  {
   "cell_type": "code",
   "execution_count": 7,
   "id": "c966eea6",
   "metadata": {},
   "outputs": [
    {
     "name": "stdout",
     "output_type": "stream",
     "text": [
      "Image not found: nabirds_images\\03726667ff4840da807de07827c3c56e.jpg\n",
      "Image not found: nabirds_images\\0385ec3c00254f64a33c5ed905f48bae.jpg\n",
      "Image not found: nabirds_images\\05b2b5d526f745a7b963299671864a58.jpg\n",
      "Image not found: nabirds_images\\0a1baae470444c0b8a65a6532e6b660b.jpg\n",
      "Image not found: nabirds_images\\0d00df9942eb4e55b807705594f3b63b.jpg\n",
      "Image not found: nabirds_images\\0ff2e59797b940fcbf0be5095d70f988.jpg\n",
      "Image not found: nabirds_images\\13e5d907e5ec4aae868d7b6b13e9ef5f.jpg\n",
      "Image not found: nabirds_images\\185b808af0e544cb96b5e887403afbce.jpg\n",
      "Image not found: nabirds_images\\45f5f5609747409aa9de089346d99d69.jpg\n",
      "Image not found: nabirds_images\\4a2fd487d3b34f94ba6351671453255a.jpg\n",
      "Image not found: nabirds_images\\4e9164e3ef22423fb80696dd4692eff4.jpg\n",
      "Image not found: nabirds_images\\55f20919b19343d3a3dc4d907b51d792.jpg\n",
      "Image not found: nabirds_images\\585aee4f9506489586717336c25fd347.jpg\n",
      "Image not found: nabirds_images\\58933596fce340aeb685b9f8ba4adad5.jpg\n",
      "Image not found: nabirds_images\\61f38366d5d24be6a9c51bc2e836bcf7.jpg\n",
      "Image not found: nabirds_images\\734128f6049142e69fcef818a65ac8d3.jpg\n",
      "Image not found: nabirds_images\\7365e50daa804daf8edebd85d4ba08c9.jpg\n",
      "Image not found: nabirds_images\\87af1c60fd554325bb90c6bcfe465308.jpg\n",
      "Image not found: nabirds_images\\9f89ba01e520458b807c3b3cbcd60337.jpg\n",
      "Image not found: nabirds_images\\a459baf23f8b4295977842cdb99c2828.jpg\n",
      "Image not found: nabirds_images\\a772db003f264e92ad80cdf2248354f6.jpg\n",
      "Image not found: nabirds_images\\a7de99256c644c6ca6d30e7cde69f4e2.jpg\n",
      "Image not found: nabirds_images\\b94421f413a545f7b1ab47fc843186e0.jpg\n",
      "Image not found: nabirds_images\\c3d976fb64ec4cb5a5a2f10794361832.jpg\n",
      "Image not found: nabirds_images\\c816a7bac8fe4389950ed437cf131ba1.jpg\n",
      "Image not found: nabirds_images\\c9015dedea014c21add454f570ee2444.jpg\n",
      "Image not found: nabirds_images\\d5303fe7f2b34a728a67aab3a7b28188.jpg\n",
      "Image not found: nabirds_images\\e22eb5584168495cac8fc03803fb1dfa.jpg\n",
      "Image not found: nabirds_images\\e2bb8151b2fa4935b376de7cc5709527.jpg\n",
      "Image not found: nabirds_images\\e8c34e920bcc47688ebbbdd3942e61aa.jpg\n",
      "Image not found: nabirds_images\\ed9f4cf6972b4324be69d2a3eb15ff46.jpg\n",
      "Image not found: nabirds_images\\ee4ec4ee01644823aed0aca8f8d71775.jpg\n",
      "Image not found: nabirds_images\\f25af903b1d8434eb37b2467a95be9f9.jpg\n",
      "Image not found: nabirds_images\\fe46810d4c064a5dbd6956a7f1441cb7.jpg\n",
      "Image not found: nabirds_images\\ffd20554c658487c87e6d1fc0cc25cbe.jpg\n",
      "Processing completed!\n"
     ]
    }
   ],
   "source": [
    "from PIL import Image\n",
    "\n",
    "image_folder = \"nabirds_images\"\n",
    "annotation_folder = 'nabirds_labels'\n",
    "\n",
    "# Iterate through each txt file in the annotations folder\n",
    "for filename in os.listdir(annotation_folder):\n",
    "    if filename.endswith('.txt'):\n",
    "        annotation_path = os.path.join(annotation_folder, filename)\n",
    "        image_path = os.path.join(image_folder, filename[:-4] + '.jpg')\n",
    "\n",
    "        try:\n",
    "            # Read the dimensions of the associated image\n",
    "            with Image.open(image_path) as img:\n",
    "                image_width, image_height = img.size\n",
    "\n",
    "            # Read the contents of the annotation file\n",
    "            with open(annotation_path, 'r') as file:\n",
    "                contents = file.read().strip().split(' ')\n",
    "\n",
    "            # Convert the last four fields to percentage values\n",
    "            center_x, center_y, width, height = map(int, contents[-4:])\n",
    "            center_x_percent = (center_x / image_width) * 100\n",
    "            center_y_percent = (center_y / image_height) * 100\n",
    "            width_percent = (width / image_width) * 100\n",
    "            height_percent = (height / image_height) * 100\n",
    "\n",
    "            # Update the contents of the annotation file\n",
    "            contents[-4:] = [str(center_x_percent), str(center_y_percent), str(width_percent), str(height_percent)]\n",
    "            updated_contents = ' '.join(contents)\n",
    "\n",
    "            # Write the updated contents back to the annotation file\n",
    "            with open(annotation_path, 'w') as file:\n",
    "                file.write(updated_contents)\n",
    "\n",
    "        except IOError:\n",
    "            print(f\"Image not found: {image_path}\")\n",
    "\n",
    "print(\"Processing completed!\")"
   ]
  },
  {
   "cell_type": "code",
   "execution_count": 8,
   "id": "bc8c5ffd",
   "metadata": {},
   "outputs": [
    {
     "name": "stdout",
     "output_type": "stream",
     "text": [
      "Processing completed!\n"
     ]
    }
   ],
   "source": [
    "#change annotations to fractions\n",
    "annotation_folder = \"nabirds_labels\"\n",
    "\n",
    "# Iterate through each txt file in the annotations folder\n",
    "for filename in os.listdir(annotation_folder):\n",
    "    if filename.endswith('.txt'):\n",
    "        annotation_path = os.path.join(annotation_folder, filename)\n",
    "\n",
    "        # Read the contents of the annotation file\n",
    "        with open(annotation_path, 'r') as file:\n",
    "            contents = file.read().strip().split(' ')\n",
    "\n",
    "        # Convert the last four fields to ratio format\n",
    "        center_x_percent, center_y_percent, width_percent, height_percent = map(float, contents[-4:])\n",
    "        center_x_ratio = center_x_percent / 100\n",
    "        center_y_ratio = center_y_percent / 100\n",
    "        width_ratio = width_percent / 100\n",
    "        height_ratio = height_percent / 100\n",
    "\n",
    "        # Update the contents of the annotation file\n",
    "        contents[-4:] = [str(center_x_ratio), str(center_y_ratio), str(width_ratio), str(height_ratio)]\n",
    "        updated_contents = ' '.join(contents)\n",
    "\n",
    "        # Write the updated contents back to the annotation file\n",
    "        with open(annotation_path, 'w') as file:\n",
    "            file.write(updated_contents)\n",
    "\n",
    "print(\"Processing completed!\")"
   ]
  },
  {
   "cell_type": "code",
   "execution_count": null,
   "id": "0001dafb",
   "metadata": {},
   "outputs": [],
   "source": []
  }
 ],
 "metadata": {
  "kernelspec": {
   "display_name": "Python 3 (ipykernel)",
   "language": "python",
   "name": "python3"
  },
  "language_info": {
   "codemirror_mode": {
    "name": "ipython",
    "version": 3
   },
   "file_extension": ".py",
   "mimetype": "text/x-python",
   "name": "python",
   "nbconvert_exporter": "python",
   "pygments_lexer": "ipython3",
   "version": "3.11.3"
  }
 },
 "nbformat": 4,
 "nbformat_minor": 5
}
