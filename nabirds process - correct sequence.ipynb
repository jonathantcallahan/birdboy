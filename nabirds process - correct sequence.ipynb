{
 "cells": [
  {
   "cell_type": "code",
   "execution_count": 6,
   "id": "54ae257c",
   "metadata": {},
   "outputs": [
    {
     "name": "stdout",
     "output_type": "stream",
     "text": [
      "Processing completed!\n"
     ]
    }
   ],
   "source": [
    "#add id field\n",
    "\n",
    "import os\n",
    "\n",
    "# Define the paths to the folders and files\n",
    "folder1_path = 'nabirds_labels_2'\n",
    "folder2_file_path = 'archive/nabirds/nabirds/image_class_labels.txt'\n",
    "\n",
    "# Read the contents of the second file into a dictionary\n",
    "id_mapping = {}\n",
    "with open(folder2_file_path, 'r') as file:\n",
    "    for line in file:\n",
    "        id_, class_ = line.strip().split()\n",
    "        id_mapping[id_] = class_\n",
    "\n",
    "# Iterate through the files in the first folder\n",
    "for filename in os.listdir(folder1_path):\n",
    "    file_path = os.path.join(folder1_path, filename)\n",
    "\n",
    "    # Read the contents of the file\n",
    "    with open(file_path, 'r') as file:\n",
    "        lines = file.readlines()\n",
    "\n",
    "    # Modify the lines and add the ID column\n",
    "    modified_lines = []\n",
    "    for line in lines:\n",
    "        id_, *values = line.strip().split()\n",
    "        class_ = id_mapping.get(id_, 'N/A')\n",
    "        modified_line = f\"{id_} {class_} {' '.join(values)}\"\n",
    "        modified_lines.append(modified_line)\n",
    "\n",
    "    # Write the modified lines back to the file\n",
    "    with open(file_path, 'w') as file:\n",
    "        file.write('\\n'.join(modified_lines))\n",
    "\n",
    "print(\"Processing completed!\")"
   ]
  },
  {
   "cell_type": "code",
   "execution_count": 7,
   "id": "7652f552",
   "metadata": {},
   "outputs": [
    {
     "name": "stdout",
     "output_type": "stream",
     "text": [
      "Processing completed!\n"
     ]
    }
   ],
   "source": [
    "#remove hash field\n",
    "\n",
    "import os\n",
    "\n",
    "# Define the path to the folder\n",
    "folder_path = 'nabirds_labels_2'\n",
    "\n",
    "# Iterate through the files in the folder\n",
    "for filename in os.listdir(folder_path):\n",
    "    file_path = os.path.join(folder_path, filename)\n",
    "\n",
    "    # Read the contents of the file\n",
    "    with open(file_path, 'r') as file:\n",
    "        lines = file.readlines()\n",
    "\n",
    "    # Remove the ID column from each line\n",
    "    modified_lines = [line.split(' ', 1)[1] for line in lines]\n",
    "\n",
    "    # Write the modified lines back to the file\n",
    "    with open(file_path, 'w') as file:\n",
    "        file.write(''.join(modified_lines))\n",
    "\n",
    "print(\"Processing completed!\")"
   ]
  },
  {
   "cell_type": "code",
   "execution_count": 8,
   "id": "0c8b93d1",
   "metadata": {},
   "outputs": [
    {
     "name": "stdout",
     "output_type": "stream",
     "text": [
      "Coordinates updated successfully!\n"
     ]
    }
   ],
   "source": [
    "#transform to YOLO format\n",
    "\n",
    "import os\n",
    "\n",
    "folder_path = \"nabirds_labels_2\"  # Update with the actual folder path\n",
    "\n",
    "for filename in os.listdir(folder_path):\n",
    "    if filename.endswith(\".txt\"):\n",
    "        file_path = os.path.join(folder_path, filename)\n",
    "        with open(file_path, \"r\") as file:\n",
    "            lines = file.readlines()\n",
    "\n",
    "        updated_lines = []\n",
    "        for line in lines:\n",
    "            parts = line.strip().split(\" \")\n",
    "            x, y, w, h = map(int, parts[1:])\n",
    "            center_x = x + w // 2\n",
    "            center_y = y + h // 2\n",
    "            updated_line = f\"{parts[0]} {center_x} {center_y} {w} {h}\\n\"\n",
    "            updated_lines.append(updated_line)\n",
    "\n",
    "        with open(file_path, \"w\") as file:\n",
    "            file.writelines(updated_lines)\n",
    "\n",
    "print(\"Coordinates updated successfully!\")"
   ]
  },
  {
   "cell_type": "code",
   "execution_count": 9,
   "id": "c966eea6",
   "metadata": {},
   "outputs": [
    {
     "ename": "FileNotFoundError",
     "evalue": "[Errno 2] No such file or directory: 'nabirds_images\\\\03726667ff4840da807de07827c3c56e.jpg'",
     "output_type": "error",
     "traceback": [
      "\u001b[1;31m---------------------------------------------------------------------------\u001b[0m",
      "\u001b[1;31mFileNotFoundError\u001b[0m                         Traceback (most recent call last)",
      "Cell \u001b[1;32mIn[9], line 15\u001b[0m\n\u001b[0;32m     12\u001b[0m image_path \u001b[38;5;241m=\u001b[39m os\u001b[38;5;241m.\u001b[39mpath\u001b[38;5;241m.\u001b[39mjoin(image_folder, filename[:\u001b[38;5;241m-\u001b[39m\u001b[38;5;241m4\u001b[39m] \u001b[38;5;241m+\u001b[39m \u001b[38;5;124m'\u001b[39m\u001b[38;5;124m.jpg\u001b[39m\u001b[38;5;124m'\u001b[39m)\n\u001b[0;32m     14\u001b[0m \u001b[38;5;66;03m# Read the dimensions of the associated image\u001b[39;00m\n\u001b[1;32m---> 15\u001b[0m \u001b[38;5;28;01mwith\u001b[39;00m \u001b[43mImage\u001b[49m\u001b[38;5;241;43m.\u001b[39;49m\u001b[43mopen\u001b[49m\u001b[43m(\u001b[49m\u001b[43mimage_path\u001b[49m\u001b[43m)\u001b[49m \u001b[38;5;28;01mas\u001b[39;00m img:\n\u001b[0;32m     16\u001b[0m     image_width, image_height \u001b[38;5;241m=\u001b[39m img\u001b[38;5;241m.\u001b[39msize\n\u001b[0;32m     18\u001b[0m \u001b[38;5;66;03m# Read the contents of the annotation file\u001b[39;00m\n",
      "File \u001b[1;32m~\\AppData\\Local\\Programs\\Python\\Python311\\Lib\\site-packages\\PIL\\Image.py:3236\u001b[0m, in \u001b[0;36mopen\u001b[1;34m(fp, mode, formats)\u001b[0m\n\u001b[0;32m   3233\u001b[0m     filename \u001b[38;5;241m=\u001b[39m fp\n\u001b[0;32m   3235\u001b[0m \u001b[38;5;28;01mif\u001b[39;00m filename:\n\u001b[1;32m-> 3236\u001b[0m     fp \u001b[38;5;241m=\u001b[39m builtins\u001b[38;5;241m.\u001b[39mopen(filename, \u001b[38;5;124m\"\u001b[39m\u001b[38;5;124mrb\u001b[39m\u001b[38;5;124m\"\u001b[39m)\n\u001b[0;32m   3237\u001b[0m     exclusive_fp \u001b[38;5;241m=\u001b[39m \u001b[38;5;28;01mTrue\u001b[39;00m\n\u001b[0;32m   3239\u001b[0m \u001b[38;5;28;01mtry\u001b[39;00m:\n",
      "\u001b[1;31mFileNotFoundError\u001b[0m: [Errno 2] No such file or directory: 'nabirds_images\\\\03726667ff4840da807de07827c3c56e.jpg'"
     ]
    }
   ],
   "source": [
    "#change annotations to percentages based on image sizes\n",
    "\n",
    "from PIL import Image\n",
    "\n",
    "image_folder = 'nabirds_images'\n",
    "annotation_folder = 'nabirds_labels_2'\n",
    "\n",
    "# Iterate through each txt file in the annotations folder\n",
    "for filename in os.listdir(annotation_folder):\n",
    "    if filename.endswith('.txt'):\n",
    "        annotation_path = os.path.join(annotation_folder, filename)\n",
    "        image_path = os.path.join(image_folder, filename[:-4] + '.jpg')\n",
    "\n",
    "        # Read the dimensions of the associated image\n",
    "        with Image.open(image_path) as img:\n",
    "            image_width, image_height = img.size\n",
    "\n",
    "        # Read the contents of the annotation file\n",
    "        with open(annotation_path, 'r') as file:\n",
    "            contents = file.read().strip().split(' ')\n",
    "\n",
    "        # Convert the last four fields to percentage values\n",
    "        center_x, center_y, width, height = map(int, contents[-4:])\n",
    "        center_x_percent = (center_x / image_width) * 100\n",
    "        center_y_percent = (center_y / image_height) * 100\n",
    "        width_percent = (width / image_width) * 100\n",
    "        height_percent = (height / image_height) * 100\n",
    "\n",
    "        # Update the contents of the annotation file\n",
    "        contents[-4:] = [str(center_x_percent), str(center_y_percent), str(width_percent), str(height_percent)]\n",
    "        updated_contents = ' '.join(contents)\n",
    "\n",
    "        # Write the updated contents back to the annotation file\n",
    "        with open(annotation_path, 'w') as file:\n",
    "            file.write(updated_contents)\n",
    "\n",
    "print(\"Processing completed!\")"
   ]
  },
  {
   "cell_type": "code",
   "execution_count": null,
   "id": "bc8c5ffd",
   "metadata": {},
   "outputs": [],
   "source": [
    "#change annotations to fractions\n",
    "\n",
    "# Iterate through each txt file in the annotations folder\n",
    "for filename in os.listdir(annotation_folder):\n",
    "    if filename.endswith('.txt'):\n",
    "        annotation_path = os.path.join(annotation_folder, filename)\n",
    "\n",
    "        # Read the contents of the annotation file\n",
    "        with open(annotation_path, 'r') as file:\n",
    "            contents = file.read().strip().split(' ')\n",
    "\n",
    "        # Convert the last four fields to ratio format\n",
    "        center_x_percent, center_y_percent, width_percent, height_percent = map(float, contents[-4:])\n",
    "        center_x_ratio = center_x_percent / 100\n",
    "        center_y_ratio = center_y_percent / 100\n",
    "        width_ratio = width_percent / 100\n",
    "        height_ratio = height_percent / 100\n",
    "\n",
    "        # Update the contents of the annotation file\n",
    "        contents[-4:] = [str(center_x_ratio), str(center_y_ratio), str(width_ratio), str(height_ratio)]\n",
    "        updated_contents = ' '.join(contents)\n",
    "\n",
    "        # Write the updated contents back to the annotation file\n",
    "        with open(annotation_path, 'w') as file:\n",
    "            file.write(updated_contents)\n",
    "\n",
    "print(\"Processing completed!\")"
   ]
  }
 ],
 "metadata": {
  "kernelspec": {
   "display_name": "Python 3 (ipykernel)",
   "language": "python",
   "name": "python3"
  },
  "language_info": {
   "codemirror_mode": {
    "name": "ipython",
    "version": 3
   },
   "file_extension": ".py",
   "mimetype": "text/x-python",
   "name": "python",
   "nbconvert_exporter": "python",
   "pygments_lexer": "ipython3",
   "version": "3.11.3"
  }
 },
 "nbformat": 4,
 "nbformat_minor": 5
}
