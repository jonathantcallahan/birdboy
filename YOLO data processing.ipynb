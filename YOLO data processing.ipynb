{
 "cells": [
  {
   "cell_type": "code",
   "execution_count": 1,
   "id": "841fb142",
   "metadata": {},
   "outputs": [
    {
     "name": "stdout",
     "output_type": "stream",
     "text": [
      "Processing completed!\n"
     ]
    }
   ],
   "source": [
    "#process original annotations file into distinct files and download images\n",
    "\n",
    "import urllib.request\n",
    "import os\n",
    "\n",
    "# Create folders if they don't exist\n",
    "if not os.path.exists('images'):\n",
    "    os.makedirs('images')\n",
    "if not os.path.exists('annotations'):\n",
    "    os.makedirs('annotations')\n",
    "\n",
    "# Read the document and process the first 20 lines\n",
    "with open('birdsnap_content/images.txt', 'r') as file:\n",
    "    lines = file.readlines()\n",
    "\n",
    "for i, line in enumerate(lines[1:21], start=1):  # Exclude the header line\n",
    "    line = line.strip().split('\\t')\n",
    "    url = line[0]\n",
    "    image_path = f'images/{i:05}.jpg'\n",
    "    annotation_path = f'annotations/{i:05}.txt'\n",
    "    species_id = line[3]\n",
    "    bb_x1 = line[4]\n",
    "    bb_y1 = line[5]\n",
    "    bb_x2 = line[6]\n",
    "    bb_y2 = line[7]\n",
    "\n",
    "    # Download the image\n",
    "    urllib.request.urlretrieve(url, image_path)\n",
    "\n",
    "    # Create annotation file\n",
    "    with open(annotation_path, 'w') as ann_file:\n",
    "        ann_file.write(f'{species_id} {bb_x1} {bb_y1} {bb_x2} {bb_y2}')\n",
    "\n",
    "print(\"Processing completed!\")\n"
   ]
  },
  {
   "cell_type": "code",
   "execution_count": null,
   "id": "2e8c8e52",
   "metadata": {},
   "outputs": [],
   "source": []
  }
 ],
 "metadata": {
  "kernelspec": {
   "display_name": "Python 3 (ipykernel)",
   "language": "python",
   "name": "python3"
  },
  "language_info": {
   "codemirror_mode": {
    "name": "ipython",
    "version": 3
   },
   "file_extension": ".py",
   "mimetype": "text/x-python",
   "name": "python",
   "nbconvert_exporter": "python",
   "pygments_lexer": "ipython3",
   "version": "3.11.3"
  }
 },
 "nbformat": 4,
 "nbformat_minor": 5
}
